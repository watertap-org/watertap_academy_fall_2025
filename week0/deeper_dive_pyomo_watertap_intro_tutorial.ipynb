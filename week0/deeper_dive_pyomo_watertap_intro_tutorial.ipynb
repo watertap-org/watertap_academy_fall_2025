{
 "cells": [
  {
   "cell_type": "markdown",
   "id": "949ae5d5-d0b1-4269-87e6-29b8f3df0071",
   "metadata": {},
   "source": [
    "# Deeper dive into Pyomo for WaterTAP Users\n",
    "\n",
    "### [WaterTAP](https://watertap.readthedocs.io/en/stable/) is built on [IDAES](https://idaes-pse.readthedocs.io/en/stable/), which itself is built on [Pyomo](https://pyomo.readthedocs.io/en/stable/). \n",
    "\n",
    "Pyomo is a software package for formulating, solving, and analyzing optimization models. IDAES is a process systems modeling framework and modeling library for simulating and optimizing chemical process and energy systems that is built using Pyomo. WaterTAP builds on and extends the process simulation framework of IDAES. \n",
    "\n",
    "This tutorial intends to introduce some important syntax, concepts, and components from Pyomo that are used extensively in WaterTAP. Knowing how to interact with these components is important for being able to use WaterTAP. It goes step-by-step through creating a few simple Pyomo models and highlights some important syntax and methods to be aware of when interacting with these Pyomo components in WaterTAP models. Note that some IDAES components are included in this tutorial, but are not strictly necessary to create Pyomo models.\n",
    "\n",
    "The fundamental Pyomo components used throughout WaterTAP are:\n",
    "- `Block`: base container for all modeling components\n",
    "- `Var`: unknown values in the model, i.e., values we are trying to optimize in our model.\n",
    "- `Param`: data that must be provided in order to find optimal values for the decision variables.\n",
    "- `Constraint`: equations relating model variables and parameters to each other.\n",
    "- `Expression`: non-constraint relationship between modeling components."
   ]
  },
  {
   "cell_type": "markdown",
   "id": "b0844ded",
   "metadata": {},
   "source": [
    "<img src=\"watertap-layer-cake.png\">"
   ]
  },
  {
   "cell_type": "markdown",
   "id": "8b341ed5-62f3-4484-a7e9-82ad3c7bde87",
   "metadata": {},
   "source": [
    "## Make necessary imports\n",
    "\n",
    "The imports below represent the most commonly used Pyomo components in WaterTAP."
   ]
  },
  {
   "cell_type": "code",
   "execution_count": null,
   "id": "1a70befd-fbd4-4f50-912e-b3e5dc0f4062",
   "metadata": {},
   "outputs": [],
   "source": [
    "from pyomo.environ import (\n",
    "    ConcreteModel,\n",
    "    Var,\n",
    "    Set,\n",
    "    Param,\n",
    "    Constraint,\n",
    "    Expression,\n",
    "    check_optimal_termination,\n",
    "    assert_optimal_termination,\n",
    "    value,\n",
    "    NonNegativeReals,\n",
    "    exp,\n",
    "    units as pyunits,\n",
    ")\n",
    "from pyomo.util.check_units import assert_units_consistent\n",
    "\n",
    "from idaes.core import FlowsheetBlock\n",
    "from idaes.core.util.model_statistics import degrees_of_freedom\n",
    "\n",
    "from watertap.core.solvers import get_solver"
   ]
  },
  {
   "cell_type": "markdown",
   "id": "26b4130f-0cdf-4128-b272-f5ae2278d67c",
   "metadata": {},
   "source": [
    "## Creating Pyomo model\n",
    "\n",
    "The `ConcreteModel` is the base object for a Pyomo and WaterTAP model. All other variables, parameters, constraints, etc. are built upon this object.\n",
    "    \n",
    "No arguments are necessary. Convention is to call the local object `m`.\n"
   ]
  },
  {
   "cell_type": "code",
   "execution_count": null,
   "id": "69bb190a-aa70-4bac-9aa7-feb03c467eaa",
   "metadata": {},
   "outputs": [],
   "source": [
    "# Instantiate model as instance of a ConcreteModel object\n",
    "m = ConcreteModel()"
   ]
  },
  {
   "cell_type": "markdown",
   "id": "a4b6e51e",
   "metadata": {},
   "source": [
    "## Add a flowsheet block\n",
    "\n",
    "Adding a `FlowsheetBlock` is not strictly necessary for pure Pyomo models, but is included here to align with\n",
    "WaterTAP modeling structure and to introduce the Pyomo `Block`.\n",
    "\n",
    "The `Block` is the basis of organization for all IDAES and WaterTAP modeling components, including unit models, property models, and the `FlowsheetBlock`."
   ]
  },
  {
   "cell_type": "code",
   "execution_count": null,
   "id": "ba5d98dd",
   "metadata": {},
   "outputs": [],
   "source": [
    "# Create a flowsheet block\n",
    "m.fs = FlowsheetBlock(dynamic=False)"
   ]
  },
  {
   "cell_type": "markdown",
   "id": "1876611b-e796-4829-8cc3-41ed1ed3dbdc",
   "metadata": {},
   "source": [
    "## Displaying the model\n",
    "\n",
    "We can call the `.display()` method on the `FlowsheetBlock`.\n",
    "\n",
    "This method can be used on any `Block` object and will print information \n",
    "about all constraints, variables, and objectives on that block and all sub-blocks. "
   ]
  },
  {
   "cell_type": "code",
   "execution_count": null,
   "id": "6d7e2029-42f6-4127-8746-a867c2ba80eb",
   "metadata": {},
   "outputs": [],
   "source": [
    "# Call the display method to show variables, objectives, and constraints on the model\n",
    "m.fs.display()\n",
    "\n",
    "# You can note the difference in calling display on the flowsheet block vs. the entire model\n",
    "# m.display()"
   ]
  },
  {
   "cell_type": "markdown",
   "id": "d708b6fc-d0c7-446b-84d1-95bf889fdd6b",
   "metadata": {},
   "source": [
    "## Adding variables\n",
    "\n",
    "Throughout this tutorial, we will create a simple model for a right triangle. To represent the different legs of the right triangle, we add three variables - `A`, `B`, and `C` as `Var`\n",
    "\n",
    "Common (and optional) keyword arguments to `Var`:\n",
    "- `initialize` - the initial value for the variable\n",
    "- `domain` - possible values the variable can take\n",
    "- `bounds` - limits on the values the variable can take\n",
    "- `units` - physical dimensions for the variable (note: more detail on units is provided later in this tutorial)\n",
    "- `doc` - description of the variable"
   ]
  },
  {
   "cell_type": "code",
   "execution_count": null,
   "id": "0bd58a31-a024-4ef1-a574-8ff931853082",
   "metadata": {},
   "outputs": [],
   "source": [
    "m.fs.A = Var(\n",
    "    initialize=10,\n",
    "    domain=NonNegativeReals,\n",
    "    bounds=(0, None),\n",
    "    units=pyunits.m,\n",
    "    doc=\"Model variable A for one leg of a right triangle\",\n",
    ")\n",
    "m.fs.B = Var(\n",
    "    initialize=10,\n",
    "    domain=NonNegativeReals,\n",
    "    bounds=(0, None),\n",
    "    units=pyunits.m,\n",
    "    doc=\"Model variable B for the other leg of a right triangle\",\n",
    ")\n",
    "m.fs.C = Var(\n",
    "    initialize=10,\n",
    "    domain=NonNegativeReals,\n",
    "    bounds=(0, None),\n",
    "    units=pyunits.m,\n",
    "    doc=\"Model variable C for the hypotenuse of a right triangle\",\n",
    ")\n",
    "\n",
    "m.fs.display()"
   ]
  },
  {
   "cell_type": "markdown",
   "id": "4488a414-3b60-44f6-9df0-dab3b5a2eac9",
   "metadata": {},
   "source": [
    "## Adding constraints\n",
    "\n",
    "Now we add constraints relating our three variables with the Pythagorean Theorem:\n",
    "\n",
    "### $A^2 + B^2 = C^2$\n",
    "\n",
    "The relationship for a `Constraint` can be added in a few ways. Here, we use the `expr` keyword to directly implement the relationship. \n",
    "\n",
    "Note that we are using the *equality operator* (`==`) rather than the *assignment operator* (`=`)."
   ]
  },
  {
   "cell_type": "code",
   "execution_count": null,
   "id": "e9df1ded-b79b-4796-ba3d-c9fc15059d0a",
   "metadata": {},
   "outputs": [],
   "source": [
    "m.fs.pythagorean = Constraint(\n",
    "    expr=m.fs.A**2 + m.fs.B**2 == m.fs.C**2, doc=\"Pythagorean theorem\"\n",
    ")"
   ]
  },
  {
   "cell_type": "markdown",
   "id": "6a0d9fef-6e66-47e6-9265-6f6b3c34d31a",
   "metadata": {},
   "source": [
    "## Check degrees of freedom (DOF)\n",
    "\n",
    "The degrees of freedom for the model are determined using the `degrees_of_freedom()` function from IDAES.\n",
    "\n",
    "For running a simulation, degrees of freedom should equal zero. For running an optimization, the degrees of freedom should be greater than zero, meaning that the number of variables exceeds the number of equations by _n_ degrees of freedom."
   ]
  },
  {
   "cell_type": "code",
   "execution_count": null,
   "id": "d5f9bb29-a062-4142-9f6a-ce4d24348a95",
   "metadata": {},
   "outputs": [],
   "source": [
    "dof = degrees_of_freedom(m)\n",
    "print(f\"Degrees of Freedom: {dof}\")"
   ]
  },
  {
   "cell_type": "markdown",
   "id": "1759e2b4-af88-48c3-b260-4bb69edcdd4c",
   "metadata": {},
   "source": [
    "With two DOF, we can add another `Constraint` to further constrain the problem.\n",
    "\n",
    "Let's say we know `A` and `B` are related with:\n",
    "\n",
    "$ A = P \\times B $\n",
    "\n",
    "We add a `Param` to represent the ratio between `A` and `B`. The `Param` has some of the same keywords as `Var`. Here we specify `mutable=True` to indicate that we want to be able to change the parameter value after construction."
   ]
  },
  {
   "cell_type": "code",
   "execution_count": null,
   "id": "a512406b-03c5-422b-ad03-af1d81e4121a",
   "metadata": {},
   "outputs": [],
   "source": [
    "m.fs.P = Param(\n",
    "    initialize=3,\n",
    "    mutable=True,\n",
    "    units=pyunits.dimensionless,\n",
    "    doc=\"Ratio between two legs of triangle\",\n",
    ")\n",
    "\n",
    "\n",
    "# An alternative way to define the constraint is via a decorator.\n",
    "# This syntax is commonly used in WaterTAP unit models.\n",
    "@m.fs.Constraint(doc=\"Equation relating A and B\")\n",
    "def A_B_relation(b):\n",
    "    return b.A == b.B * b.P\n",
    "\n",
    "\n",
    "# NOTE: The above approach is equivalent to the approach below.\n",
    "# m.A_B_relation = Constraint(expr=m.A == m.B * m.P, doc=\"Equation relating A and B\")\n",
    "\n",
    "# You can use both the display and pprint methods on many other Pyomo components, including Constraints.\n",
    "m.fs.A_B_relation.pprint()\n",
    "m.fs.A_B_relation.display()\n",
    "\n",
    "dof = degrees_of_freedom(m)\n",
    "print(f\"Degrees of Freedom: {dof}\")"
   ]
  },
  {
   "cell_type": "markdown",
   "id": "6d42f3d9",
   "metadata": {},
   "source": [
    "## Fixing variables and setting parameter values\n",
    "\n",
    "At this point, the model still has 1 DOF. We can specify the length of one of our triangle sides using the `.fix()` method on a `Var`\n",
    "\n",
    "For `Param` components, we change the value using the `set_value()` method. The `.fix()` method will yield an error on a `Param`."
   ]
  },
  {
   "cell_type": "code",
   "execution_count": null,
   "id": "be304a02",
   "metadata": {},
   "outputs": [],
   "source": [
    "m.fs.A.fix(5)\n",
    "m.fs.P.set_value(23)\n",
    "\n",
    "dof = degrees_of_freedom(m)\n",
    "print(f\"Degrees of Freedom: {dof}\")\n",
    "\n",
    "# We can just as easily unfix the variable:\n",
    "m.fs.A.unfix()\n",
    "\n",
    "dof = degrees_of_freedom(m)\n",
    "print(f\"Degrees of Freedom: {dof}\")"
   ]
  },
  {
   "cell_type": "markdown",
   "id": "ffed2182",
   "metadata": {},
   "source": [
    "# Solving the model\n",
    "\n",
    "Now we create the solver by calling `get_solver()`. \n",
    "\n",
    "To be consistent with the WaterTAP framework, we are using the WaterTAP solver here. Alternatively, we could use the version of IPOPT from Pyomo's `SolverFactory`.\n",
    "\n",
    "<div class=\"alert alert-block alert-info\">\n",
    "<b>Note:</b> the WaterTAP version of the solver has been tuned to better handle WaterTAP problems.\n",
    "</div>"
   ]
  },
  {
   "cell_type": "code",
   "execution_count": null,
   "id": "a13d5e64-8015-4c65-92f5-5c71544b9e32",
   "metadata": {},
   "outputs": [],
   "source": [
    "# solver = SolverFactory(\"ipopt\")\n",
    "solver = get_solver()\n",
    "\n",
    "# Fix A again\n",
    "m.fs.A.fix(5)\n",
    "\n",
    "dof = degrees_of_freedom(m)\n",
    "assert dof == 0\n",
    "\n",
    "results = solver.solve(m)"
   ]
  },
  {
   "cell_type": "markdown",
   "id": "d67a9617",
   "metadata": {},
   "source": [
    "## Checking solver termination\n",
    "\n",
    "The solve didn't give us an error, but we don't know if the solve is optimal.\n",
    "Information about the solver termination is stored in the local variable `results`. We can check optimality with:\n",
    "- the `assert_optimal_termination` function\n",
    "- the `check_optimal_termination` function\n",
    "- printing the `termination_condition` stored in `results`\n",
    "- simply printing `results`"
   ]
  },
  {
   "cell_type": "code",
   "execution_count": null,
   "id": "4155b9d7",
   "metadata": {},
   "outputs": [],
   "source": [
    "# Nothing to print, but will raise an error if not optimal\n",
    "assert_optimal_termination(results)\n",
    "\n",
    "# Returns a boolean\n",
    "is_optimal = check_optimal_termination(results)\n",
    "print(f\"Is optimal: {is_optimal}\")\n",
    "\n",
    "# Print termination condition\n",
    "termination_condition = results.solver.termination_condition\n",
    "print(f\"Termination condition: {termination_condition}\")\n",
    "\n",
    "# Print the full results object\n",
    "print(results)"
   ]
  },
  {
   "cell_type": "markdown",
   "id": "5042aa5f-5885-403f-97ba-be614157a8ae",
   "metadata": {},
   "source": [
    "## Accessing model information\n",
    "\n",
    "You can access the value of a `Var` or `Param` by using the `value()` function."
   ]
  },
  {
   "cell_type": "code",
   "execution_count": null,
   "id": "35f43ad6-4547-450c-a5e5-31319e38bd8d",
   "metadata": {},
   "outputs": [],
   "source": [
    "print(f\"A = {value(m.fs.A)}\")\n",
    "print(f\"B = {value(m.fs.B)}\")\n",
    "print(f\"C = {value(m.fs.C)}\")"
   ]
  },
  {
   "cell_type": "markdown",
   "id": "14469fb2-731b-46f5-a6e5-5c78b89e648a",
   "metadata": {},
   "source": [
    "## Working with quantities and units\n",
    "\n",
    "Pyomo (and IDAES and WaterTAP) makes use of a package called [Pint](https://pint.readthedocs.io/en/stable/), which we have imported as `pyunits`.\n",
    "\n",
    "`pyunits` are extremely useful for making unit conversions and ensuring models have dimensionally consistent units.\n",
    "\n",
    "We can define any quantity with any combination of units. \n",
    "\n",
    "Common order-of-magnitude prefixes and their abbreviations (e.g., `mega-` and `M-`, `milli-` and `m-`) can be prepended to any unit.\n",
    "\n",
    "Let's create 100 mg/L of some substance and a 42 MGD flow rate."
   ]
  },
  {
   "cell_type": "code",
   "execution_count": null,
   "id": "7b829eee-e12c-4e0e-8d5b-01cb09b78ef5",
   "metadata": {
    "tags": []
   },
   "outputs": [],
   "source": [
    "C = 100 * pyunits.mg / pyunits.L\n",
    "Q = 42 * pyunits.Mgal / pyunits.d\n",
    "# NOTE: You can use long form unit names as well as their common abbreviations:\n",
    "# C = 100 * pyunits.milligram / pyunits.liter\n",
    "# Q = 42 * pyunits.megagal / pyunits.day\n",
    "\n",
    "print(C)\n",
    "print(value(C))\n",
    "\n",
    "print(Q)\n",
    "print(value(Q))"
   ]
  },
  {
   "cell_type": "markdown",
   "id": "b8f0cfd2-2aaa-480f-8ef4-847a01999711",
   "metadata": {},
   "source": [
    "## Unit conversions\n",
    "\n",
    "We can convert between units using `pyunits.convert()` as long as they are of the same kind.\n",
    "\n",
    "And you can get units from any variable using `pyunits.get_units()` and passing the desired units via the `to_units` keyword."
   ]
  },
  {
   "cell_type": "code",
   "execution_count": null,
   "id": "61059ef1-6eda-4cff-b185-964c661af99e",
   "metadata": {},
   "outputs": [],
   "source": [
    "C1 = pyunits.convert(C, to_units=pyunits.lb / pyunits.ft**3)\n",
    "C2 = pyunits.convert(C, to_units=pyunits.stone / pyunits.furlong**3)\n",
    "C3 = pyunits.convert(C, to_units=pyunits.grain / (pyunits.acre * pyunits.foot))\n",
    "\n",
    "Q1 = pyunits.convert(Q, to_units=pyunits.centinautical_miles**3 / pyunits.milliyear)\n",
    "\n",
    "print(value(C1), pyunits.get_units(C1))\n",
    "print(value(C2), pyunits.get_units(C2))\n",
    "print(value(C3), pyunits.get_units(C3))\n",
    "print(value(Q1), pyunits.get_units(Q1))"
   ]
  },
  {
   "cell_type": "markdown",
   "id": "43b6e919",
   "metadata": {},
   "source": [
    "## Units carry through operations"
   ]
  },
  {
   "cell_type": "code",
   "execution_count": null,
   "id": "712a841e-685e-447e-ac5d-1ec335cca693",
   "metadata": {},
   "outputs": [],
   "source": [
    "mass_flow = Q * C\n",
    "\n",
    "print(value(mass_flow), pyunits.get_units(mass_flow))\n",
    "\n",
    "# Or, convert to desired units directly\n",
    "mass_flow = pyunits.convert(Q * C, to_units=pyunits.g / pyunits.s)\n",
    "\n",
    "print(value(mass_flow), pyunits.get_units(mass_flow))"
   ]
  }
 ],
 "metadata": {
  "kernelspec": {
   "display_name": "watertap-academy",
   "language": "python",
   "name": "watertap-academy"
  },
  "language_info": {
   "codemirror_mode": {
    "name": "ipython",
    "version": 3
   },
   "file_extension": ".py",
   "mimetype": "text/x-python",
   "name": "python",
   "nbconvert_exporter": "python",
   "pygments_lexer": "ipython3",
   "version": "3.11.14"
  }
 },
 "nbformat": 4,
 "nbformat_minor": 5
}
