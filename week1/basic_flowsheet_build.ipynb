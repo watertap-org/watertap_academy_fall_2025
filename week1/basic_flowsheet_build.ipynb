{
 "cells": [
  {
   "cell_type": "markdown",
   "id": "55a86a36",
   "metadata": {},
   "source": [
    "# Basic Flowsheet Build Tutorial\n",
    "\n",
    "This tutorial will go through the basic workflow to create a WaterTAP model with a single unit process (pump).\n",
    "\n",
    "0. Required imports\n",
    "1. Create model\n",
    "2. Add flowsheet\n",
    "3. Add property model\n",
    "4. Add pump model\n",
    "5. Set operating conditions\n",
    "6. Scaling model\n",
    "7. Initialize model\n",
    "8. Solve model"
   ]
  },
  {
   "cell_type": "markdown",
   "id": "a0440187",
   "metadata": {},
   "source": [
    "## Step 0: Import necessary packages\n",
    "\n",
    "### Any WaterTAP model will begin with importing the relevant components from Pyomo, IDAES, and WaterTAP.\n",
    "\n",
    "From Pyomo:\n",
    "- Concrete model\n",
    "- `pyunits`\n",
    "- Helper function(s) to check solver status\n",
    "- Helper function to get value of variables\n",
    "\n",
    "From IDAES:\n",
    "- Flowsheet block\n",
    "- Helper function to check degrees of freedom\n",
    "- Helper function to scale model\n",
    "\n",
    "From WaterTAP:\n",
    "- Property models\n",
    "- Unit models\n",
    "- Solver\n",
    "\n",
    "\n",
    "<div class=\"alert alert-block alert-info\">\n",
    "<b>Note:</b> Both <code>ConcreteModel</code> and <code>FlowsheetBlock</code> are required imports for any WaterTAP model.\n",
    "</div>"
   ]
  },
  {
   "cell_type": "code",
   "execution_count": null,
   "id": "f5a30ec4",
   "metadata": {},
   "outputs": [],
   "source": [
    "# Pyomo imports\n",
    "from pyomo.environ import (\n",
    "    ConcreteModel,\n",
    "    check_optimal_termination,\n",
    "    assert_optimal_termination,\n",
    "    value,\n",
    "    units as pyunits,\n",
    ")\n",
    "\n",
    "# IDAES imports\n",
    "from idaes.core import FlowsheetBlock\n",
    "from idaes.core.util.model_statistics import degrees_of_freedom\n",
    "from idaes.core.util.scaling import calculate_scaling_factors\n",
    "\n",
    "# WaterTAP imports\n",
    "from watertap.core.solvers import get_solver\n",
    "from watertap.property_models.seawater_prop_pack import SeawaterParameterBlock\n",
    "from watertap.unit_models.pressure_changer import Pump"
   ]
  },
  {
   "cell_type": "markdown",
   "id": "49293118",
   "metadata": {},
   "source": [
    "## Step 1: Create base model\n",
    "\n",
    "Pyomo's `ConcreteModel` is the basis for any WaterTAP model.\n",
    "\n",
    "No arguments are required. Convention is to call this `m`."
   ]
  },
  {
   "cell_type": "code",
   "execution_count": null,
   "id": "dadb7c1c",
   "metadata": {},
   "outputs": [],
   "source": [
    "m = ConcreteModel()"
   ]
  },
  {
   "cell_type": "markdown",
   "id": "068b1128",
   "metadata": {},
   "source": [
    "## Step 2: Add flowsheet block\n",
    "\n",
    "The [`FlowsheetBlock`](https://idaes-pse.readthedocs.io/en/stable/reference_guides/core/flowsheet_block.html#) from IDAES forms the base for all WaterTAP system models.\n",
    "\n",
    "All model components (unit models, property models, variables, constraints, etc.) are built upon the flowsheet block.\n",
    "\n",
    "The flowsheet block will create the time domain for the flowsheet. WaterTAP is a steady-state modeling framework, so we set `dynamic=False` when creating the `FlowsheetBlock`.\n",
    "\n",
    "(Note: `dynamic=False` is the default argument, but excluding it will raise a warning.)"
   ]
  },
  {
   "cell_type": "code",
   "execution_count": null,
   "id": "7a50d75c",
   "metadata": {},
   "outputs": [],
   "source": [
    "m.fs = FlowsheetBlock(dynamic=False)"
   ]
  },
  {
   "cell_type": "markdown",
   "id": "3b04256c",
   "metadata": {},
   "source": [
    "# Step 3: Add property model\n",
    "\n",
    "With the flowsheet created, we can add any sub-models required for the WaterTAP system model.\n",
    "\n",
    "The property model used will be dictated by the models on the flowsheet. In this demonstration, we are using the WaterTAP [seawater property model](https://watertap.readthedocs.io/en/stable/technical_reference/property_models/seawater.html).\n",
    "\n",
    "Creating the `SeawaterParameterBlock` does not require any arguments. However, other property models can have many required and optional arguments to specify the model."
   ]
  },
  {
   "cell_type": "code",
   "execution_count": null,
   "id": "86c74b7f",
   "metadata": {},
   "outputs": [],
   "source": [
    "m.fs.properties = SeawaterParameterBlock()"
   ]
  },
  {
   "cell_type": "markdown",
   "id": "c56f715f",
   "metadata": {},
   "source": [
    "# Step 4: Add unit model\n",
    "\n",
    "After adding the property model, we can add the unit models to the flowsheet. In this demonstration, we are adding a single [pump model](https://watertap.readthedocs.io/en/stable/technical_reference/unit_models/pump.html).\n",
    "\n",
    "Adding any unit model requires specifying the property package via the `property_package` argument. Here, we are specifying that the property model to be used with our pump model is `m.fs.properties` that we just added to the flowsheet."
   ]
  },
  {
   "cell_type": "code",
   "execution_count": null,
   "id": "ade9cf8c",
   "metadata": {},
   "outputs": [],
   "source": [
    "m.fs.pump = Pump(\n",
    "    property_package=m.fs.properties,\n",
    ")"
   ]
  },
  {
   "cell_type": "markdown",
   "id": "f29518da",
   "metadata": {},
   "source": [
    "# Step 5: Set operating conditions\n",
    "\n",
    "Now that we have added all the necessary models to the flowsheet, we can specify the operating conditions.\n",
    "\n",
    "First, we check the degrees of freedom that need to be specified prior to solving the model. Degrees of freedom for individual unit models can be found on the WaterTAP documentation.\n"
   ]
  },
  {
   "cell_type": "code",
   "execution_count": null,
   "id": "8af34164",
   "metadata": {},
   "outputs": [],
   "source": [
    "print(\"Degrees of freedom =\", degrees_of_freedom(m))"
   ]
  },
  {
   "cell_type": "markdown",
   "id": "e5b20f4f",
   "metadata": {},
   "source": [
    "### The degrees of freedom for the pump model include:\n",
    "- the change in pressure from inlet to outlet\n",
    "- pump efficiency\n",
    "- inlet stream state variables\n",
    "\n",
    "The inlet stream conditions to any unit model are defined by the property model state variables. For the pump model, the inlet and outlet properties are managed by a [control volume](https://idaes-pse.readthedocs.io/en/stable/reference_guides/core/control_volume_0d.html#module-idaes.core.base.control_volume0d).\n",
    "\n",
    "We can use the `.display()` method on the pump unit model control volume. Using this method on any block will automatically go through all the sub-blocks and show all the variables, constraints, and objectives currently on each block."
   ]
  },
  {
   "cell_type": "code",
   "execution_count": null,
   "id": "9cf28535",
   "metadata": {},
   "outputs": [],
   "source": [
    "m.fs.pump.control_volume.display()"
   ]
  },
  {
   "cell_type": "markdown",
   "id": "a8d13e33",
   "metadata": {},
   "source": [
    "### This reveals that on `m.fs.pump.control_volume` are two sub-blocks called `properties_in` and `properties_out`. \n",
    "\n",
    "Each of these are indexed to `0`, which is the default time-index for steady-state models.\n",
    "\n",
    "To define the inlet stream to our pump, we only need to specify the state variables for `properties_in`. The state variables are defined by the property model used for the unit model (here that is the `SeawaterParameterBlock`) but are nearly always:\n",
    "- `pressure`: pressure of inlet stream (Pa)\n",
    "- `temperature`: temperature of (K)\n",
    "- `flow_mass_phase_comp[\"Liq\", \"H2O\"]`: mass flow rate of water (kg/s)\n",
    "- `flow_mass_phase_comp[\"Liq\", \"TDS\"]`: mass flow rate of TDS (kg/s)\n",
    "\n",
    "<div class=\"alert alert-block alert-info\">\n",
    "<b>Note:</b> The naming of property variables in WaterTAP property models follow the <a href=\"https://idaes-pse.readthedocs.io/en/latest/explanations/conventions.html#standard-naming-format\">naming conventions used in IDAES</a>.\n",
    "</div>"
   ]
  },
  {
   "cell_type": "code",
   "execution_count": null,
   "id": "e10c9afb",
   "metadata": {},
   "outputs": [],
   "source": [
    "m.fs.pump.control_volume.properties_in[0].pressure.fix(101325)  # Pa\n",
    "m.fs.pump.control_volume.properties_in[0].temperature.fix(298.15)  # K\n",
    "m.fs.pump.control_volume.properties_in[0].flow_mass_phase_comp[\"Liq\", \"H2O\"].fix(\n",
    "    1\n",
    ")  # kg/s\n",
    "m.fs.pump.control_volume.properties_in[0].flow_mass_phase_comp[\"Liq\", \"TDS\"].fix(\n",
    "    0.1\n",
    ")  # kg/s\n",
    "\n",
    "print(\"Degrees of freedom =\", degrees_of_freedom(m))"
   ]
  },
  {
   "cell_type": "markdown",
   "id": "4daf6065",
   "metadata": {},
   "source": [
    "### With the inlet stream specified, the remaining two degrees of freedom are variables that are built directly on the pump block itself (rather than on the control volume sub-block):"
   ]
  },
  {
   "cell_type": "code",
   "execution_count": null,
   "id": "13ba14b0",
   "metadata": {},
   "outputs": [],
   "source": [
    "m.fs.pump.deltaP.fix(500000)  # Pa\n",
    "m.fs.pump.efficiency_pump.fix(0.8)\n",
    "\n",
    "print(\"Degrees of freedom =\", degrees_of_freedom(m))"
   ]
  },
  {
   "cell_type": "markdown",
   "id": "869c3668",
   "metadata": {},
   "source": [
    "# Step 6: Scaling the model\n",
    "\n",
    "Prior to model initialization and solving, the variables and constraints on the model must be properly scaled.\n",
    "\n",
    "Model scaling is a topic that will be covered in more detail in a future class, but here we present the helper function `calculate_scaling_factors` that will use default scaling factors to scale the variables on the model.\n",
    "\n",
    "<div class=\"alert alert-block alert-info\">\n",
    "<b>Note:</b> Since we did not set default scaling factors for some of our variables, this will result in printed warnings.\n",
    "</div>"
   ]
  },
  {
   "cell_type": "code",
   "execution_count": null,
   "id": "78a25c8a",
   "metadata": {},
   "outputs": [],
   "source": [
    "calculate_scaling_factors(m)"
   ]
  },
  {
   "cell_type": "markdown",
   "id": "50a6df9e",
   "metadata": {},
   "source": [
    "# Step 7: Initializing the model\n",
    "\n",
    "Before solving the model, we run an initialization routine that will set model variables to initial values based on the operating conditions we have specified in the previous step.\n",
    "\n",
    "Every model has a different initialization routine that was implemented by the model developer, but they can all be called with the `initialize()` method."
   ]
  },
  {
   "cell_type": "code",
   "execution_count": null,
   "id": "d41858bf",
   "metadata": {},
   "outputs": [],
   "source": [
    "m.fs.pump.initialize()"
   ]
  },
  {
   "cell_type": "markdown",
   "id": "e879c330",
   "metadata": {},
   "source": [
    "# Step 8: Solving the model\n",
    "\n",
    "After initialization, we are ready to solve the model.\n",
    "\n",
    "Solving is done by passing the model to a *solver*. WaterTAP uses a custom implementation of the IPOPT solver. An instance of the WaterTAP solver is returned from the `get_solver()` function that was imported above."
   ]
  },
  {
   "cell_type": "code",
   "execution_count": null,
   "id": "0cb22684",
   "metadata": {},
   "outputs": [],
   "source": [
    "solver = get_solver()\n",
    "results = solver.solve(m)"
   ]
  },
  {
   "cell_type": "markdown",
   "id": "149c70f0",
   "metadata": {},
   "source": [
    "### Checking the termination status of the solve\n",
    "\n",
    "We want to know if the solve resulted in an optimal termination. This can be done in a few ways:\n",
    "- using the `assert_optimal_termination` or `check_optimal_termination` function\n",
    "- printing the solver status from the `results`"
   ]
  },
  {
   "cell_type": "code",
   "execution_count": null,
   "id": "6f94eb6b",
   "metadata": {},
   "outputs": [],
   "source": [
    "# This will raise an error if the model did not solve optimally\n",
    "assert_optimal_termination(results)\n",
    "\n",
    "# Alternatively, we can check the termination status without raising an error\n",
    "termination_status = check_optimal_termination(results)\n",
    "print(\"Optimal termination:\", termination_status)\n",
    "\n",
    "# Printing termination condition from results\n",
    "print(\"Solver termination condition:\", results.solver.termination_condition)"
   ]
  },
  {
   "cell_type": "markdown",
   "id": "6a4df8ea",
   "metadata": {},
   "source": [
    "# Accessing results\n",
    "\n",
    "The values of all variables on the model can be accessed directly by using the `value()` function.\n",
    "\n",
    "Alternatively, many unit models have a `report()` method."
   ]
  },
  {
   "cell_type": "code",
   "execution_count": null,
   "id": "5a8b93d4",
   "metadata": {},
   "outputs": [],
   "source": [
    "pump_work = value(m.fs.pump.work_mechanical[0])\n",
    "\n",
    "print(f\"Pump work: {pump_work:.2f} W\")\n",
    "\n",
    "m.fs.pump.report()"
   ]
  },
  {
   "cell_type": "markdown",
   "id": "464a9989",
   "metadata": {},
   "source": [
    "# Build function\n",
    "\n",
    "It is convenient to put some of the steps for creating our model into a single `build` function that returns the model."
   ]
  },
  {
   "cell_type": "code",
   "execution_count": null,
   "id": "94ba6700",
   "metadata": {},
   "outputs": [],
   "source": [
    "def build():\n",
    "    m = ConcreteModel()\n",
    "\n",
    "    m.fs = FlowsheetBlock(dynamic=False)\n",
    "\n",
    "    m.fs.properties = SeawaterParameterBlock()\n",
    "\n",
    "    m.fs.pump = Pump(\n",
    "        property_package=m.fs.properties,\n",
    "    )\n",
    "\n",
    "    calculate_scaling_factors(m)\n",
    "\n",
    "    return m"
   ]
  },
  {
   "cell_type": "markdown",
   "id": "106899ae",
   "metadata": {},
   "source": [
    "# Working with quantities and units\n",
    "\n",
    "WaterTAP makes use of a package called [Pint](https://pint.readthedocs.io/en/stable/) to handle dimensional quantities, which we have imported as `pyunits`.\n",
    "\n",
    "Variables, parameters, and expressions in WaterTAP models have physical units associated with them to ensure dimensional consistency.\n",
    "\n",
    "But `pyunits` can be used just as easily to define a quantity outside of WaterTAP. A quantity is the product of the magnitude and the associated dimensional units."
   ]
  },
  {
   "cell_type": "code",
   "execution_count": null,
   "id": "e711ba4f",
   "metadata": {},
   "outputs": [],
   "source": [
    "conc = 35 * pyunits.g / pyunits.L\n",
    "flow_vol = 2e6 * pyunits.gallons / pyunits.day\n",
    "\n",
    "print(flow_vol)\n",
    "# You can also use common prefixes to the units to indicate order of magnitude\n",
    "# e.g., u = \"micro\" = 1E-6\n",
    "flow_vol = 2 * pyunits.ugallons / pyunits.day\n",
    "print(flow_vol)\n",
    "# M = \"mega\" = 1E6\n",
    "flow_vol = 2 * pyunits.Mgallons / pyunits.day\n",
    "print(flow_vol)"
   ]
  },
  {
   "cell_type": "markdown",
   "id": "af48d653",
   "metadata": {},
   "source": [
    "## Converting units\n",
    "\n",
    "You can convert from one set of units to another using the `convert` method and access the units of a quantity with the `get_units` method"
   ]
  },
  {
   "cell_type": "code",
   "execution_count": null,
   "id": "33f41c79",
   "metadata": {},
   "outputs": [],
   "source": [
    "flow_vol = 1 * pyunits.Mgallons / pyunits.day\n",
    "flow_vol2 = pyunits.convert(flow_vol, to_units=pyunits.m**3 / pyunits.s)\n",
    "print(f\"Flow volume in MGD = {value(flow_vol):.2f} {pyunits.get_units(flow_vol)}\")\n",
    "print(f\"Flow volume in m3/s = {value(flow_vol2):.6f} {pyunits.get_units(flow_vol2)}\")"
   ]
  },
  {
   "cell_type": "markdown",
   "id": "0259394b",
   "metadata": {},
   "source": [
    "## Creating new quantities\n",
    "\n",
    "Units of quantities will carry through to define a new quantity with new units"
   ]
  },
  {
   "cell_type": "code",
   "execution_count": null,
   "id": "9b6ea5c6",
   "metadata": {},
   "outputs": [],
   "source": [
    "rho = 1000 * pyunits.g / pyunits.liter  # density of water\n",
    "\n",
    "flow_mass_water1 = flow_vol * rho\n",
    "flow_mass_water2 = pyunits.convert(flow_mass_water1, to_units=pyunits.kg / pyunits.s)\n",
    "\n",
    "flow_mass_tds1 = flow_vol * conc\n",
    "flow_mass_tds2 = pyunits.convert(flow_mass_tds1, to_units=pyunits.kg / pyunits.s)\n",
    "\n",
    "print(\n",
    "    f\"Mass flow water 1 = {value(flow_mass_water1):.2f} {pyunits.get_units(flow_mass_water1)}\"\n",
    ")\n",
    "print(\n",
    "    f\"Mass flow water 2 = {value(flow_mass_water2):.2f} {pyunits.get_units(flow_mass_water2)}\"\n",
    ")\n",
    "print(\n",
    "    f\"Mass flow TDS 1 = {value(flow_mass_tds1):.2f} {pyunits.get_units(flow_mass_tds1)}\"\n",
    ")\n",
    "print(\n",
    "    f\"Mass flow TDS 2 = {value(flow_mass_tds2):.2f} {pyunits.get_units(flow_mass_tds2)}\"\n",
    ")"
   ]
  },
  {
   "cell_type": "markdown",
   "id": "5c1485a9",
   "metadata": {},
   "source": [
    "### Use `pyunits` with WaterTAP state variables\n",
    "\n",
    "The default units for WaterTAP state variables are:\n",
    "- kg/s for mass flow rates\n",
    "- Pascal for pressure\n",
    "- Kelvin for temperature\n",
    "\n",
    "When defining state variables, using magnitudes without units attached will assume the units to be the default units. \n",
    "\n",
    "However, if you attach units, WaterTAP will automatically convert to the default units. \n",
    "\n",
    "In the example below, we define our pressure in psi, change in pressure in mmHg, temperature in Rankine, mass flow of water in lb/hr, and mass flow of TDS in grains/year. After fixing our state variables with these quantities, they are automatically converted to the proper units.\n",
    "\n",
    "<div class=\"alert alert-block alert-info\">\n",
    "<b>Note:</b> For temperature, you can only use absolute units (Kelvin and Rankine) and not relative units (Celsius and Fahrenheit).\n",
    "</div>\n"
   ]
  },
  {
   "cell_type": "code",
   "execution_count": null,
   "id": "435936da",
   "metadata": {},
   "outputs": [],
   "source": [
    "m = build()\n",
    "\n",
    "pressure = 800 * pyunits.psi\n",
    "temperature = 535 * pyunits.degR\n",
    "flow_mass_water = 5000 * pyunits.lb / pyunits.hr\n",
    "flow_mass_tds = 1.239e10 * pyunits.gr / pyunits.year\n",
    "\n",
    "deltaP = 50234 * pyunits.mmHg\n",
    "\n",
    "m.fs.pump.control_volume.properties_in[0].pressure.fix(pressure)  # Pa\n",
    "m.fs.pump.control_volume.properties_in[0].temperature.fix(temperature)  # K\n",
    "m.fs.pump.control_volume.properties_in[0].flow_mass_phase_comp[\"Liq\", \"H2O\"].fix(\n",
    "    flow_mass_water\n",
    ")  # kg/s\n",
    "m.fs.pump.control_volume.properties_in[0].flow_mass_phase_comp[\"Liq\", \"TDS\"].fix(\n",
    "    flow_mass_tds\n",
    ")  # kg/s\n",
    "\n",
    "print(\n",
    "    f\"\\nModel pressure = {value(m.fs.pump.control_volume.properties_in[0].pressure):.2f} {pyunits.get_units(m.fs.pump.control_volume.properties_in[0].pressure)}\"\n",
    ")\n",
    "print(\n",
    "    f\"Model temperature = {value(m.fs.pump.control_volume.properties_in[0].temperature):.2f} {pyunits.get_units(m.fs.pump.control_volume.properties_in[0].temperature)}\"\n",
    ")\n",
    "print(\n",
    "    f\"Model mass flow of water = {value(m.fs.pump.control_volume.properties_in[0].flow_mass_phase_comp['Liq', 'H2O']):.2f} {pyunits.get_units(m.fs.pump.control_volume.properties_in[0].flow_mass_phase_comp['Liq', 'H2O'])}\"\n",
    ")\n",
    "print(\n",
    "    f\"Model mass flow of TDS = {value(m.fs.pump.control_volume.properties_in[0].flow_mass_phase_comp['Liq', 'TDS']):.2f} {pyunits.get_units(m.fs.pump.control_volume.properties_in[0].flow_mass_phase_comp['Liq', 'TDS'])}\"\n",
    ")"
   ]
  }
 ],
 "metadata": {
  "kernelspec": {
   "display_name": "watertap-academy",
   "language": "python",
   "name": "watertap-academy"
  },
  "language_info": {
   "codemirror_mode": {
    "name": "ipython",
    "version": 3
   },
   "file_extension": ".py",
   "mimetype": "text/x-python",
   "name": "python",
   "nbconvert_exporter": "python",
   "pygments_lexer": "ipython3",
   "version": "3.11.14"
  }
 },
 "nbformat": 4,
 "nbformat_minor": 5
}
